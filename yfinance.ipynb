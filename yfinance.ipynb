{
 "cells": [
  {
   "cell_type": "code",
   "execution_count": 1,
   "metadata": {},
   "outputs": [
    {
     "name": "stdout",
     "output_type": "stream",
     "text": [
      "Collecting yfinance\n",
      "  Downloading yfinance-0.2.9-py2.py3-none-any.whl (55 kB)\n",
      "\u001b[K     |████████████████████████████████| 55 kB 729 kB/s eta 0:00:01\n",
      "\u001b[?25hCollecting multitasking>=0.0.7\n",
      "  Downloading multitasking-0.0.11-py3-none-any.whl (8.5 kB)\n",
      "Requirement already satisfied: pytz>=2022.5 in /Users/willweng/opt/anaconda3/envs/develop_base/lib/python3.9/site-packages (from yfinance) (2022.7.1)\n",
      "Collecting lxml>=4.9.1\n",
      "  Downloading lxml-4.9.2-cp39-cp39-macosx_10_15_x86_64.whl (4.8 MB)\n",
      "\u001b[K     |████████████████████████████████| 4.8 MB 469 kB/s eta 0:00:01\n",
      "\u001b[?25hCollecting frozendict>=2.3.4\n",
      "  Downloading frozendict-2.3.4-cp39-cp39-macosx_10_9_x86_64.whl (33 kB)\n",
      "Requirement already satisfied: numpy>=1.16.5 in /Users/willweng/opt/anaconda3/envs/develop_base/lib/python3.9/site-packages (from yfinance) (1.23.5)\n",
      "Collecting beautifulsoup4>=4.11.1\n",
      "  Using cached beautifulsoup4-4.11.2-py3-none-any.whl (129 kB)\n",
      "Requirement already satisfied: requests>=2.26 in /Users/willweng/opt/anaconda3/envs/develop_base/lib/python3.9/site-packages (from yfinance) (2.28.1)\n",
      "Requirement already satisfied: cryptography>=3.3.2 in /Users/willweng/opt/anaconda3/envs/develop_base/lib/python3.9/site-packages (from yfinance) (38.0.4)\n",
      "Requirement already satisfied: pandas>=1.3.0 in /Users/willweng/opt/anaconda3/envs/develop_base/lib/python3.9/site-packages (from yfinance) (1.5.3)\n",
      "Collecting html5lib>=1.1\n",
      "  Downloading html5lib-1.1-py2.py3-none-any.whl (112 kB)\n",
      "\u001b[K     |████████████████████████████████| 112 kB 14.2 MB/s eta 0:00:01\n",
      "\u001b[?25hCollecting appdirs>=1.4.4\n",
      "  Downloading appdirs-1.4.4-py2.py3-none-any.whl (9.6 kB)\n",
      "Collecting soupsieve>1.2\n",
      "  Using cached soupsieve-2.3.2.post1-py3-none-any.whl (37 kB)\n",
      "Requirement already satisfied: cffi>=1.12 in /Users/willweng/opt/anaconda3/envs/develop_base/lib/python3.9/site-packages (from cryptography>=3.3.2->yfinance) (1.15.1)\n",
      "Requirement already satisfied: pycparser in /Users/willweng/opt/anaconda3/envs/develop_base/lib/python3.9/site-packages (from cffi>=1.12->cryptography>=3.3.2->yfinance) (2.21)\n",
      "Requirement already satisfied: six>=1.9 in /Users/willweng/opt/anaconda3/envs/develop_base/lib/python3.9/site-packages (from html5lib>=1.1->yfinance) (1.16.0)\n",
      "Collecting webencodings\n",
      "  Using cached webencodings-0.5.1-py2.py3-none-any.whl (11 kB)\n",
      "Requirement already satisfied: python-dateutil>=2.8.1 in /Users/willweng/opt/anaconda3/envs/develop_base/lib/python3.9/site-packages (from pandas>=1.3.0->yfinance) (2.8.2)\n",
      "Requirement already satisfied: urllib3<1.27,>=1.21.1 in /Users/willweng/opt/anaconda3/envs/develop_base/lib/python3.9/site-packages (from requests>=2.26->yfinance) (1.26.14)\n",
      "Requirement already satisfied: certifi>=2017.4.17 in /Users/willweng/opt/anaconda3/envs/develop_base/lib/python3.9/site-packages (from requests>=2.26->yfinance) (2022.6.15)\n",
      "Requirement already satisfied: idna<4,>=2.5 in /Users/willweng/opt/anaconda3/envs/develop_base/lib/python3.9/site-packages (from requests>=2.26->yfinance) (3.4)\n",
      "Requirement already satisfied: charset-normalizer<3,>=2 in /Users/willweng/opt/anaconda3/envs/develop_base/lib/python3.9/site-packages (from requests>=2.26->yfinance) (2.0.4)\n",
      "Installing collected packages: webencodings, soupsieve, multitasking, lxml, html5lib, frozendict, beautifulsoup4, appdirs, yfinance\n",
      "Successfully installed appdirs-1.4.4 beautifulsoup4-4.11.2 frozendict-2.3.4 html5lib-1.1 lxml-4.9.2 multitasking-0.0.11 soupsieve-2.3.2.post1 webencodings-0.5.1 yfinance-0.2.9\n"
     ]
    }
   ],
   "source": [
    "!pip install yfinance"
   ]
  },
  {
   "cell_type": "code",
   "execution_count": null,
   "metadata": {},
   "outputs": [],
   "source": [
    "import yfinance as yf\n",
    "\n",
    "msft = yf.Ticker(\"MSFT\")\n",
    "\n",
    "# fast access to subset of stock info\n",
    "msft.basic_info\n",
    "# slow access to all stock info\n",
    "msft.info\n",
    "\n",
    "# get historical market data\n",
    "hist = msft.history(period=\"max\")\n",
    "\n",
    "# show meta information about the history (requires history() to be called first)\n",
    "msft.history_metadata"
   ]
  }
 ],
 "metadata": {
  "kernelspec": {
   "display_name": "develop_base",
   "language": "python",
   "name": "python3"
  },
  "language_info": {
   "codemirror_mode": {
    "name": "ipython",
    "version": 3
   },
   "file_extension": ".py",
   "mimetype": "text/x-python",
   "name": "python",
   "nbconvert_exporter": "python",
   "pygments_lexer": "ipython3",
   "version": "3.9.16"
  },
  "orig_nbformat": 4,
  "vscode": {
   "interpreter": {
    "hash": "6af6ee9946bf70475b68b3b672b310c02ecfecb62d02d689b9c3ac33da9d0dbd"
   }
  }
 },
 "nbformat": 4,
 "nbformat_minor": 2
}
