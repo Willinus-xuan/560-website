{
 "cells": [
  {
   "cell_type": "code",
   "execution_count": 1,
   "metadata": {},
   "outputs": [
    {
     "name": "stdout",
     "output_type": "stream",
     "text": [
      "Collecting python-coinmarketcap\n",
      "  Downloading python_coinmarketcap-0.5-py3-none-any.whl (10 kB)\n",
      "Requirement already satisfied: requests>=2.2.0 in /Users/willweng/opt/anaconda3/envs/develop_base/lib/python3.9/site-packages (from python-coinmarketcap) (2.28.1)\n",
      "Requirement already satisfied: charset-normalizer<3,>=2 in /Users/willweng/opt/anaconda3/envs/develop_base/lib/python3.9/site-packages (from requests>=2.2.0->python-coinmarketcap) (2.0.4)\n",
      "Requirement already satisfied: certifi>=2017.4.17 in /Users/willweng/opt/anaconda3/envs/develop_base/lib/python3.9/site-packages (from requests>=2.2.0->python-coinmarketcap) (2022.6.15)\n",
      "Requirement already satisfied: urllib3<1.27,>=1.21.1 in /Users/willweng/opt/anaconda3/envs/develop_base/lib/python3.9/site-packages (from requests>=2.2.0->python-coinmarketcap) (1.26.14)\n",
      "Requirement already satisfied: idna<4,>=2.5 in /Users/willweng/opt/anaconda3/envs/develop_base/lib/python3.9/site-packages (from requests>=2.2.0->python-coinmarketcap) (3.4)\n",
      "Installing collected packages: python-coinmarketcap\n",
      "Successfully installed python-coinmarketcap-0.5\n"
     ]
    }
   ],
   "source": [
    "!pip install python-coinmarketcap"
   ]
  },
  {
   "cell_type": "code",
   "execution_count": 2,
   "metadata": {},
   "outputs": [],
   "source": [
    "import coinmarketcapapi\n",
    "# cmc = coinmarketcapapi.CoinMarketCapAPI(‘YOUR API KEY’)\n",
    "cmc = coinmarketcapapi.CoinMarketCapAPI()"
   ]
  },
  {
   "cell_type": "code",
   "execution_count": null,
   "metadata": {},
   "outputs": [],
   "source": [
    "data = cmc.cryptocurrency_info(symbol='BTC')"
   ]
  }
 ],
 "metadata": {
  "kernelspec": {
   "display_name": "develop_base",
   "language": "python",
   "name": "python3"
  },
  "language_info": {
   "codemirror_mode": {
    "name": "ipython",
    "version": 3
   },
   "file_extension": ".py",
   "mimetype": "text/x-python",
   "name": "python",
   "nbconvert_exporter": "python",
   "pygments_lexer": "ipython3",
   "version": "3.9.16"
  },
  "orig_nbformat": 4,
  "vscode": {
   "interpreter": {
    "hash": "6af6ee9946bf70475b68b3b672b310c02ecfecb62d02d689b9c3ac33da9d0dbd"
   }
  }
 },
 "nbformat": 4,
 "nbformat_minor": 2
}
